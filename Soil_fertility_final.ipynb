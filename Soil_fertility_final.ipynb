{
  "nbformat": 4,
  "nbformat_minor": 0,
  "metadata": {
    "colab": {
      "name": "Soil_fertility_final.ipynb",
      "provenance": [],
      "authorship_tag": "ABX9TyNctHs1vaFUhFI8FqsGhwBE",
      "include_colab_link": true
    },
    "kernelspec": {
      "name": "python3",
      "display_name": "Python 3"
    },
    "accelerator": "GPU"
  },
  "cells": [
    {
      "cell_type": "markdown",
      "metadata": {
        "id": "view-in-github",
        "colab_type": "text"
      },
      "source": [
        "<a href=\"https://colab.research.google.com/github/Varun0801/Deep_Learning-and-Machine_Learning_With_Python/blob/master/Soil_fertility_final.ipynb\" target=\"_parent\"><img src=\"https://colab.research.google.com/assets/colab-badge.svg\" alt=\"Open In Colab\"/></a>"
      ]
    },
    {
      "cell_type": "code",
      "metadata": {
        "id": "TA796wrqIadF"
      },
      "source": [
        "import pandas as pd\r\n",
        "import numpy as np\r\n",
        "import seaborn as sns\r\n",
        "import matplotlib.pyplot as plt"
      ],
      "execution_count": 2,
      "outputs": []
    },
    {
      "cell_type": "code",
      "metadata": {
        "colab": {
          "base_uri": "https://localhost:8080/",
          "height": 195
        },
        "id": "O1S3KsHiIrU4",
        "outputId": "ebeab28c-50ad-4c61-f267-01dabcffd938"
      },
      "source": [
        "data = pd.read_csv('/content/soil_fertility.csv')\r\n",
        "data.head()"
      ],
      "execution_count": 4,
      "outputs": [
        {
          "output_type": "execute_result",
          "data": {
            "text/html": [
              "<div>\n",
              "<style scoped>\n",
              "    .dataframe tbody tr th:only-of-type {\n",
              "        vertical-align: middle;\n",
              "    }\n",
              "\n",
              "    .dataframe tbody tr th {\n",
              "        vertical-align: top;\n",
              "    }\n",
              "\n",
              "    .dataframe thead th {\n",
              "        text-align: right;\n",
              "    }\n",
              "</style>\n",
              "<table border=\"1\" class=\"dataframe\">\n",
              "  <thead>\n",
              "    <tr style=\"text-align: right;\">\n",
              "      <th></th>\n",
              "      <th>N</th>\n",
              "      <th>P</th>\n",
              "      <th>K</th>\n",
              "      <th>ph</th>\n",
              "      <th>ec</th>\n",
              "      <th>fertility</th>\n",
              "    </tr>\n",
              "  </thead>\n",
              "  <tbody>\n",
              "    <tr>\n",
              "      <th>0</th>\n",
              "      <td>138</td>\n",
              "      <td>8.6</td>\n",
              "      <td>560</td>\n",
              "      <td>7.46</td>\n",
              "      <td>0.62</td>\n",
              "      <td>0</td>\n",
              "    </tr>\n",
              "    <tr>\n",
              "      <th>1</th>\n",
              "      <td>213</td>\n",
              "      <td>7.5</td>\n",
              "      <td>338</td>\n",
              "      <td>7.62</td>\n",
              "      <td>0.75</td>\n",
              "      <td>0</td>\n",
              "    </tr>\n",
              "    <tr>\n",
              "      <th>2</th>\n",
              "      <td>163</td>\n",
              "      <td>9.6</td>\n",
              "      <td>718</td>\n",
              "      <td>7.59</td>\n",
              "      <td>0.51</td>\n",
              "      <td>0</td>\n",
              "    </tr>\n",
              "    <tr>\n",
              "      <th>3</th>\n",
              "      <td>157</td>\n",
              "      <td>6.8</td>\n",
              "      <td>475</td>\n",
              "      <td>7.64</td>\n",
              "      <td>0.58</td>\n",
              "      <td>0</td>\n",
              "    </tr>\n",
              "    <tr>\n",
              "      <th>4</th>\n",
              "      <td>270</td>\n",
              "      <td>9.9</td>\n",
              "      <td>444</td>\n",
              "      <td>7.63</td>\n",
              "      <td>0.40</td>\n",
              "      <td>1</td>\n",
              "    </tr>\n",
              "  </tbody>\n",
              "</table>\n",
              "</div>"
            ],
            "text/plain": [
              "     N    P    K    ph    ec  fertility\n",
              "0  138  8.6  560  7.46  0.62          0\n",
              "1  213  7.5  338  7.62  0.75          0\n",
              "2  163  9.6  718  7.59  0.51          0\n",
              "3  157  6.8  475  7.64  0.58          0\n",
              "4  270  9.9  444  7.63  0.40          1"
            ]
          },
          "metadata": {
            "tags": []
          },
          "execution_count": 4
        }
      ]
    },
    {
      "cell_type": "code",
      "metadata": {
        "colab": {
          "base_uri": "https://localhost:8080/"
        },
        "id": "R4M9hWzdI9Lr",
        "outputId": "ac6301b0-7a08-4606-eb01-ca8f35768293"
      },
      "source": [
        "data1 = data.drop(data[data['fertility'] == 2].index)\r\n",
        "print(data1)\r\n",
        "print(data['fertility'].value_counts())"
      ],
      "execution_count": 5,
      "outputs": [
        {
          "output_type": "stream",
          "text": [
            "       N     P    K    ph    ec  fertility\n",
            "0    138   8.6  560  7.46  0.62          0\n",
            "1    213   7.5  338  7.62  0.75          0\n",
            "2    163   9.6  718  7.59  0.51          0\n",
            "3    157   6.8  475  7.64  0.58          0\n",
            "4    270   9.9  444  7.63  0.40          1\n",
            "..   ...   ...  ...   ...   ...        ...\n",
            "874  326  10.3  507  7.88  0.71          1\n",
            "875  351  10.7  623  7.96  0.51          1\n",
            "876  264   9.0  486  7.24  0.47          1\n",
            "877  276   9.2  370  7.62  0.62          1\n",
            "879  264  10.3  475  7.49  0.74          0\n",
            "\n",
            "[843 rows x 6 columns]\n",
            "1    431\n",
            "0    412\n",
            "2     37\n",
            "Name: fertility, dtype: int64\n"
          ],
          "name": "stdout"
        }
      ]
    },
    {
      "cell_type": "code",
      "metadata": {
        "colab": {
          "base_uri": "https://localhost:8080/"
        },
        "id": "3Fk4rLbpJDJU",
        "outputId": "52b7e1f5-adf8-4e98-883d-fba7eb29f158"
      },
      "source": [
        "from sklearn.model_selection import train_test_split\r\n",
        "import warnings\r\n",
        "warnings.filterwarnings('ignore')\r\n",
        "\r\n",
        "# Code starts here\r\n",
        "df = data1\r\n",
        "print(df.head())\r\n",
        "X = df.iloc[:,:-1]\r\n",
        "y = df.iloc[:,-1]\r\n",
        "print(X.shape)\r\n",
        "print(y.shape)\r\n",
        "X_train, X_test, y_train, y_test = train_test_split(X,y,test_size=0.2,random_state=6)\r\n",
        "print(X_train.shape)\r\n",
        "print(X_test.shape)\r\n",
        "print(y_train.shape)\r\n",
        "print(y_test.shape)"
      ],
      "execution_count": 6,
      "outputs": [
        {
          "output_type": "stream",
          "text": [
            "     N    P    K    ph    ec  fertility\n",
            "0  138  8.6  560  7.46  0.62          0\n",
            "1  213  7.5  338  7.62  0.75          0\n",
            "2  163  9.6  718  7.59  0.51          0\n",
            "3  157  6.8  475  7.64  0.58          0\n",
            "4  270  9.9  444  7.63  0.40          1\n",
            "(843, 5)\n",
            "(843,)\n",
            "(674, 5)\n",
            "(169, 5)\n",
            "(674,)\n",
            "(169,)\n"
          ],
          "name": "stdout"
        }
      ]
    },
    {
      "cell_type": "code",
      "metadata": {
        "colab": {
          "base_uri": "https://localhost:8080/"
        },
        "id": "sXv3AAlfJHPP",
        "outputId": "e631bad8-858f-4820-8622-8b1659175538"
      },
      "source": [
        "num_columns = ['N','P','K','ph','ec']\r\n",
        "# Import packages\r\n",
        "from sklearn.preprocessing import MinMaxScaler\r\n",
        "\r\n",
        "# Code starts here\r\n",
        "normalizer = MinMaxScaler()\r\n",
        "normalizer.fit(X_train[num_columns])\r\n",
        "X_train[num_columns] = normalizer.transform(X_train[num_columns])\r\n",
        "X_test[num_columns] = normalizer.transform(X_test[num_columns])\r\n",
        "print(X_train.head())\r\n",
        "print(X_test.head())"
      ],
      "execution_count": 7,
      "outputs": [
        {
          "output_type": "stream",
          "text": [
            "            N         P         K        ph        ec\n",
            "288  0.881402  0.034195  0.650685  0.711340  0.734177\n",
            "201  0.525606  0.038365  0.433790  0.671134  0.556962\n",
            "10   0.390836  0.043369  0.614155  0.689691  0.443038\n",
            "357  0.525606  0.035863  0.505708  0.645361  0.379747\n",
            "824  0.474394  0.743953  0.783105  0.668041  0.924051\n",
            "            N         P         K        ph        ec\n",
            "280  0.644205  0.055880  0.590183  0.708247  0.531646\n",
            "669  0.929919  0.043369  0.638128  0.659794  0.253165\n",
            "17   0.711590  0.043369  0.735160  0.675258  0.569620\n",
            "343  0.727763  0.083403  0.577626  0.690722  0.481013\n",
            "22   0.541779  0.054212  0.132420  0.692784  0.734177\n"
          ],
          "name": "stdout"
        }
      ]
    },
    {
      "cell_type": "code",
      "metadata": {
        "colab": {
          "base_uri": "https://localhost:8080/"
        },
        "id": "sfHSBqTFKgOq",
        "outputId": "19effda1-7536-4099-9066-39687d15dbd0"
      },
      "source": [
        "from sklearn.model_selection import GridSearchCV, RandomizedSearchCV\r\n",
        "from sklearn.linear_model import LogisticRegression\r\n",
        "from sklearn.metrics import accuracy_score\r\n",
        "\r\n",
        "\r\n",
        "# parameters for grid search\r\n",
        "parameters = {'C':[0.1,0.5,1,5]}\r\n",
        "\r\n",
        "# Code starts here\r\n",
        "lr = LogisticRegression(random_state=9)\r\n",
        "grid = GridSearchCV(lr,param_grid = parameters)\r\n",
        "grid.fit(X_train,y_train)\r\n",
        "y_pred = grid.predict(X_test)\r\n",
        "print(y_pred)"
      ],
      "execution_count": 8,
      "outputs": [
        {
          "output_type": "stream",
          "text": [
            "[0 1 1 1 0 1 1 1 0 0 1 0 0 1 0 1 1 0 1 0 0 1 0 1 0 1 1 1 0 0 0 0 1 0 0 1 0\n",
            " 0 1 1 0 1 1 1 0 1 1 1 1 1 0 1 0 0 0 0 0 0 1 1 1 1 1 1 1 0 0 1 1 1 0 1 1 0\n",
            " 0 0 1 0 1 1 0 1 1 1 1 1 0 0 1 1 0 1 0 1 1 1 1 0 1 0 0 0 0 1 0 1 1 1 1 0 0\n",
            " 0 0 1 1 0 1 1 1 1 1 1 1 1 1 1 1 1 1 1 0 0 0 1 1 1 1 1 0 1 0 0 1 0 0 1 1 0\n",
            " 0 1 0 1 1 0 0 0 1 1 0 1 1 1 0 1 0 0 0 1 0]\n"
          ],
          "name": "stdout"
        }
      ]
    },
    {
      "cell_type": "code",
      "metadata": {
        "colab": {
          "base_uri": "https://localhost:8080/"
        },
        "id": "jFD3WiP1JleB",
        "outputId": "5448e711-78e7-4c69-f625-ea7401e5cc37"
      },
      "source": [
        "# import packages\r\n",
        "from sklearn.metrics import accuracy_score, precision_score, recall_score, f1_score, confusion_matrix\r\n",
        "\r\n",
        "# confusion matrix\r\n",
        "\r\n",
        "\r\n",
        "cf = confusion_matrix(y_test, y_pred)\r\n",
        "print(cf)\r\n",
        "print('='*50)\r\n",
        "\r\n",
        "# accuracy\r\n",
        "acc = accuracy_score(y_test, y_pred)\r\n",
        "print(acc)\r\n",
        "print('='*50)\r\n",
        "\r\n",
        "# precision\r\n",
        "precision = precision_score(y_test, y_pred)\r\n",
        "print(precision)\r\n",
        "print('='*50)\r\n",
        "\r\n",
        "# recall\r\n",
        "recall = recall_score(y_test, y_pred)\r\n",
        "print(recall)\r\n",
        "print('='*50)\r\n",
        "\r\n",
        "# F-score\r\n",
        "f_score = f1_score(y_test, y_pred)\r\n",
        "print(f_score)\r\n",
        "print('='*50)\r\n",
        "\r\n",
        "print(y_test.value_counts())\r\n"
      ],
      "execution_count": 9,
      "outputs": [
        {
          "output_type": "stream",
          "text": [
            "[[68  7]\n",
            " [ 4 90]]\n",
            "==================================================\n",
            "0.9349112426035503\n",
            "==================================================\n",
            "0.9278350515463918\n",
            "==================================================\n",
            "0.9574468085106383\n",
            "==================================================\n",
            "0.9424083769633509\n",
            "==================================================\n",
            "1    94\n",
            "0    75\n",
            "Name: fertility, dtype: int64\n"
          ],
          "name": "stdout"
        }
      ]
    },
    {
      "cell_type": "code",
      "metadata": {
        "colab": {
          "base_uri": "https://localhost:8080/",
          "height": 366
        },
        "id": "v7aWGZcZKlWx",
        "outputId": "0b6bae4b-93ed-42c4-9ba0-7eb76ade471e"
      },
      "source": [
        "from sklearn.metrics import roc_auc_score\r\n",
        "from sklearn import metrics\r\n",
        "score = roc_auc_score( y_test, y_pred)\r\n",
        "print(score)\r\n",
        "y_pred_proba = grid.predict_proba(X_test)[:,1]\r\n",
        "print(y_pred_proba[0])\r\n",
        "fpr, tpr, _ = metrics.roc_curve(y_test,  y_pred_proba)\r\n",
        "roc_auc = roc_auc_score(y_test, y_pred_proba)\r\n",
        "print(roc_auc)\r\n",
        "plt.plot(fpr,tpr,label=\"Logistic model, auc=\"+str(roc_auc))\r\n",
        "plt.legend(loc=4)\r\n",
        "plt.show()\r\n",
        "print(round(score,2))\r\n",
        "print(round(y_pred_proba[0],2))\r\n",
        "print(round(roc_auc,2))"
      ],
      "execution_count": 10,
      "outputs": [
        {
          "output_type": "stream",
          "text": [
            "0.9320567375886525\n",
            "0.4035435833260082\n",
            "0.981276595744681\n"
          ],
          "name": "stdout"
        },
        {
          "output_type": "display_data",
          "data": {
            "image/png": "[encoded data removed]",
            "text/plain": [
              "<Figure size 432x288 with 1 Axes>"
            ]
          },
          "metadata": {
            "tags": [],
            "needs_background": "light"
          }
        },
        {
          "output_type": "stream",
          "text": [
            "0.93\n",
            "0.4\n",
            "0.98\n"
          ],
          "name": "stdout"
        }
      ]
    },
    {
      "cell_type": "code",
      "metadata": {
        "id": "qiYQgBuWLHmD"
      },
      "source": [
        "import pickle as clk\r\n",
        "clk.dump(grid,open('fertility_model.pkl',mode = 'wb'))"
      ],
      "execution_count": 14,
      "outputs": []
    },
    {
      "cell_type": "code",
      "metadata": {
        "colab": {
          "base_uri": "https://localhost:8080/"
        },
        "id": "UyeJn4wIK9aw",
        "outputId": "2719396b-26c3-4b70-c5ce-83a04b69f1f1"
      },
      "source": [
        "filename = '/content/fertility_model.pkl'\r\n",
        "loaded_model = clk.load(open(filename, 'rb'))\r\n",
        "result = loaded_model.score(X_test, y_test)\r\n",
        "print(result)\r\n",
        "y_pred1 = loaded_model.predict(X_test)\r\n",
        "print(y_pred1)"
      ],
      "execution_count": 18,
      "outputs": [
        {
          "output_type": "stream",
          "text": [
            "0.9349112426035503\n",
            "[0 1 1 1 0 1 1 1 0 0 1 0 0 1 0 1 1 0 1 0 0 1 0 1 0 1 1 1 0 0 0 0 1 0 0 1 0\n",
            " 0 1 1 0 1 1 1 0 1 1 1 1 1 0 1 0 0 0 0 0 0 1 1 1 1 1 1 1 0 0 1 1 1 0 1 1 0\n",
            " 0 0 1 0 1 1 0 1 1 1 1 1 0 0 1 1 0 1 0 1 1 1 1 0 1 0 0 0 0 1 0 1 1 1 1 0 0\n",
            " 0 0 1 1 0 1 1 1 1 1 1 1 1 1 1 1 1 1 1 0 0 0 1 1 1 1 1 0 1 0 0 1 0 0 1 1 0\n",
            " 0 1 0 1 1 0 0 0 1 1 0 1 1 1 0 1 0 0 0 1 0]\n"
          ],
          "name": "stdout"
        }
      ]
    },
    {
      "cell_type": "code",
      "metadata": {
        "colab": {
          "base_uri": "https://localhost:8080/"
        },
        "id": "u6AEvDVcJt5B",
        "outputId": "1390e4e8-7d3c-4d80-ce61-45e3ba195504"
      },
      "source": [
        "a = input()\r\n",
        "b = input()\r\n",
        "c = input()\r\n",
        "d = input()\r\n",
        "e = input()\r\n",
        "#X_test3 = np.array([[138 ,  8.6,  560,  7.46,  0.62]])\r\n",
        "X_test3 = np.array([[a ,  b,  c,  d,  e]])\r\n",
        "X_test4 = normalizer.transform(X_test3)\r\n",
        "print(X_test4)\r\n",
        "#X_test1.reshape(1,5)\r\n",
        "#print(X_test3)\r\n",
        "print(X_test4.shape)"
      ],
      "execution_count": 49,
      "outputs": [
        {
          "output_type": "stream",
          "text": [
            "138\n",
            "8.6\n",
            "560\n",
            "7.46\n",
            "0.62\n",
            "[[0.35579515 0.04753962 0.62671233 0.67628866 0.65822785]]\n",
            "(1, 5)\n"
          ],
          "name": "stdout"
        }
      ]
    },
    {
      "cell_type": "code",
      "metadata": {
        "colab": {
          "base_uri": "https://localhost:8080/"
        },
        "id": "fgFByuQlNtym",
        "outputId": "b64a350d-fa70-45c8-a98f-6c95e1429e76"
      },
      "source": [
        "y_pred3 = loaded_model.predict(X_test4)\r\n",
        "print(y_pred3)"
      ],
      "execution_count": 50,
      "outputs": [
        {
          "output_type": "stream",
          "text": [
            "[0]\n"
          ],
          "name": "stdout"
        }
      ]
    },
    {
      "cell_type": "code",
      "metadata": {
        "id": "CRjv_RKoQ0eR"
      },
      "source": [
        ""
      ],
      "execution_count": null,
      "outputs": []
    }
  ]
}