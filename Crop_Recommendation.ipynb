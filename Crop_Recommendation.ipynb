{
  "nbformat": 4,
  "nbformat_minor": 0,
  "metadata": {
    "colab": {
      "name": "Crop_Recommendation.ipynb",
      "provenance": [],
      "authorship_tag": "ABX9TyNhZCKIaLH6W5fREjn4a/zU",
      "include_colab_link": true
    },
    "kernelspec": {
      "name": "python3",
      "display_name": "Python 3"
    },
    "accelerator": "GPU"
  },
  "cells": [
    {
      "cell_type": "markdown",
      "metadata": {
        "id": "view-in-github",
        "colab_type": "text"
      },
      "source": [
        "<a href=\"https://colab.research.google.com/github/Varun0801/Deep_Learning-and-Machine_Learning_With_Python/blob/master/Crop_Recommendation.ipynb\" target=\"_parent\"><img src=\"https://colab.research.google.com/assets/colab-badge.svg\" alt=\"Open In Colab\"/></a>"
      ]
    },
    {
      "cell_type": "code",
      "metadata": {
        "colab": {
          "base_uri": "https://localhost:8080/"
        },
        "id": "bG6jPUQL86eL",
        "outputId": "a7ea839e-5bbd-40f7-a0a7-b21b692e36cd"
      },
      "source": [
        "#importing the required libraries\r\n",
        "import pandas as pd\r\n",
        "import numpy as np\r\n",
        "from sklearn.model_selection import train_test_split\r\n",
        "\r\n",
        "#Reading the csv file\r\n",
        "data=pd.read_csv('cpdata.csv')\r\n",
        "print(data.head())\r\n"
      ],
      "execution_count": 22,
      "outputs": [
        {
          "output_type": "stream",
          "text": [
            "   temperature   humidity        ph    rainfall label\n",
            "0    20.879744  82.002744  6.502985  202.935536  rice\n",
            "1    21.770462  80.319644  7.038096  226.655537  rice\n",
            "2    23.004459  82.320763  7.840207  263.964248  rice\n",
            "3    26.491096  80.158363  6.980401  242.864034  rice\n",
            "4    20.130175  81.604873  7.628473  262.717340  rice\n"
          ],
          "name": "stdout"
        }
      ]
    },
    {
      "cell_type": "code",
      "metadata": {
        "colab": {
          "base_uri": "https://localhost:8080/"
        },
        "id": "6U-TQJTdXYg2",
        "outputId": "3a813860-771b-4304-d7eb-d489fa2ac3d5"
      },
      "source": [
        "#Creating dummy variable for target i.e label\r\n",
        "from sklearn.preprocessing import LabelEncoder\r\n",
        "# Initialize encoder object\r\n",
        "encoder = LabelEncoder()\r\n",
        "# Fit-transform on data\r\n",
        "data['label'] = encoder.fit_transform(data['label'])\r\n",
        "#label= pd.get_dummies(data.label).iloc[: , 1:]\r\n",
        "#data= pd.concat([data,label],axis=1)\r\n",
        "#data.drop('label', axis=1,inplace=True)\r\n",
        "print('The data present in one row of the dataset is')\r\n",
        "print(data.head())\r\n",
        "X = data.iloc[:,:-1]\r\n",
        "y = data.iloc[: ,-1]\r\n",
        "print(X.shape)\r\n",
        "print(y.shape)"
      ],
      "execution_count": 23,
      "outputs": [
        {
          "output_type": "stream",
          "text": [
            "The data present in one row of the dataset is\n",
            "   temperature   humidity        ph    rainfall  label\n",
            "0    20.879744  82.002744  6.502985  202.935536     28\n",
            "1    21.770462  80.319644  7.038096  226.655537     28\n",
            "2    23.004459  82.320763  7.840207  263.964248     28\n",
            "3    26.491096  80.158363  6.980401  242.864034     28\n",
            "4    20.130175  81.604873  7.628473  262.717340     28\n",
            "(3100, 4)\n",
            "(3100,)\n"
          ],
          "name": "stdout"
        }
      ]
    },
    {
      "cell_type": "code",
      "metadata": {
        "colab": {
          "base_uri": "https://localhost:8080/"
        },
        "id": "xk__yQAMrUD2",
        "outputId": "01fd6aaf-56f0-4d54-db77-c3c4dd7ed685"
      },
      "source": [
        "#Dividing the data into training and test set\r\n",
        "X_train,X_test,y_train,y_test=train_test_split(X,y,test_size=0.2,random_state=6)\r\n",
        "\r\n",
        "from sklearn.preprocessing import StandardScaler\r\n",
        "sc = StandardScaler()\r\n",
        "X_train = sc.fit_transform(X_train)\r\n",
        "X_test = sc.transform(X_test)\r\n",
        "\r\n",
        "X_train = pd.DataFrame(X_train)\r\n",
        "X_test = pd.DataFrame(X_test)\r\n",
        "print(X_train.shape)\r\n",
        "print(X_test.shape)"
      ],
      "execution_count": 24,
      "outputs": [
        {
          "output_type": "stream",
          "text": [
            "(2480, 4)\n",
            "(620, 4)\n"
          ],
          "name": "stdout"
        }
      ]
    },
    {
      "cell_type": "code",
      "metadata": {
        "colab": {
          "base_uri": "https://localhost:8080/"
        },
        "id": "OtGDcSo9CD00",
        "outputId": "ae46a301-f47c-4cea-a478-857b65628b4c"
      },
      "source": [
        "from sklearn.ensemble import VotingClassifier\r\n",
        "from sklearn.linear_model import LogisticRegression\r\n",
        "from sklearn.tree import DecisionTreeClassifier\r\n",
        "\r\n",
        "#Four random models intitialised\r\n",
        "log_clf_1 = LogisticRegression(random_state=0)\r\n",
        "log_clf_2 = LogisticRegression(random_state=42)\r\n",
        "decision_clf1 = DecisionTreeClassifier(criterion = 'entropy',random_state=0)\r\n",
        "decision_clf2 = DecisionTreeClassifier(criterion = 'entropy', random_state=42)\r\n",
        "#Creating a list of models\r\n",
        "Model_List=[('Logistic Regression 1', log_clf_1),\r\n",
        "('Logistic Regression 2', log_clf_2),\r\n",
        "('Decision Tree 1', decision_clf1),\r\n",
        "('Decision Tree 2', decision_clf2)]\r\n",
        "\r\n",
        "#Initialising soft voting model\r\n",
        "voting_clf_soft = VotingClassifier(estimators = Model_List,voting = 'soft')\r\n",
        "#Fitting the data\r\n",
        "voting_clf_soft.fit(X_train, y_train)\r\n",
        "#Scoring the model for train\r\n",
        "soft_voting_score= voting_clf_soft.score(X_train,y_train)\r\n",
        "print(\"Soft Voting Train Accuracy: %.2f\"%soft_voting_score)\r\n",
        "#Scoring the model for test\r\n",
        "soft_voting_score= voting_clf_soft.score(X_test,y_test)\r\n",
        "print(\"Soft Voting Test Accuracy: %.2f\"%soft_voting_score)"
      ],
      "execution_count": 25,
      "outputs": [
        {
          "output_type": "stream",
          "text": [
            "Soft Voting Train Accuracy: 1.00\n",
            "Soft Voting Test Accuracy: 0.92\n"
          ],
          "name": "stdout"
        }
      ]
    },
    {
      "cell_type": "code",
      "metadata": {
        "id": "RTWWjmjuEXFt"
      },
      "source": [
        "import pickle as clk\r\n",
        "clk.dump(voting_clf_soft,open('recomm_model.pkl',mode = 'wb'))"
      ],
      "execution_count": 26,
      "outputs": []
    },
    {
      "cell_type": "code",
      "metadata": {
        "colab": {
          "base_uri": "https://localhost:8080/"
        },
        "id": "j0najs6ecaOF",
        "outputId": "bf1feb72-f50a-47df-a313-ddc0d11419bb"
      },
      "source": [
        "X_test1 = X_test.iloc[:5,:]\r\n",
        "print(X_test1)"
      ],
      "execution_count": 27,
      "outputs": [
        {
          "output_type": "stream",
          "text": [
            "          0         1         2         3\n",
            "0 -1.112200 -1.979039  3.073686 -0.499952\n",
            "1 -1.049492 -2.098256 -0.111116 -0.315662\n",
            "2  3.542652 -0.294031  1.206690 -0.399938\n",
            "3 -0.811835  0.814183 -0.314683 -0.104252\n",
            "4 -1.125170 -2.169180 -0.555152 -0.979726\n"
          ],
          "name": "stdout"
        }
      ]
    },
    {
      "cell_type": "code",
      "metadata": {
        "colab": {
          "base_uri": "https://localhost:8080/"
        },
        "id": "dBeKTEMSEkph",
        "outputId": "9f9fd7dd-eab6-41b2-8e43-1b6aa3ddf376"
      },
      "source": [
        "filename = '/content/recomm_model.pkl'\r\n",
        "loaded_model = clk.load(open(filename, 'rb'))\r\n",
        "result = loaded_model.score(X_test, y_test)\r\n",
        "print(result)\r\n",
        "y_pred1 = loaded_model.predict(X_test1)\r\n",
        "print(y_pred1)"
      ],
      "execution_count": 28,
      "outputs": [
        {
          "output_type": "stream",
          "text": [
            "0.9193548387096774\n",
            "[ 2  2  0 27 12]\n"
          ],
          "name": "stdout"
        }
      ]
    },
    {
      "cell_type": "code",
      "metadata": {
        "colab": {
          "base_uri": "https://localhost:8080/"
        },
        "id": "UK4a2TxwCigf",
        "outputId": "7336e463-c992-4889-e478-81eff20eda68"
      },
      "source": [
        "pred1 = voting_clf_soft.predict(X_test1)\r\n",
        "print(pred1)"
      ],
      "execution_count": 29,
      "outputs": [
        {
          "output_type": "stream",
          "text": [
            "[ 2  2  0 27 12]\n"
          ],
          "name": "stdout"
        }
      ]
    },
    {
      "cell_type": "code",
      "metadata": {
        "colab": {
          "base_uri": "https://localhost:8080/"
        },
        "id": "dbqz6vIEDoNj",
        "outputId": "5cab7c1c-080d-4997-d0e9-565d1e6e187b"
      },
      "source": [
        "pred_class = encoder.inverse_transform(pred1)\r\n",
        "print(pred_class)"
      ],
      "execution_count": 30,
      "outputs": [
        {
          "output_type": "stream",
          "text": [
            "['Chickpea' 'Chickpea' 'Adzuki Beans' 'pomegranate' 'Peas']\n"
          ],
          "name": "stdout"
        }
      ]
    },
    {
      "cell_type": "code",
      "metadata": {
        "id": "xr0L9JpLEJ2D"
      },
      "source": [
        ""
      ],
      "execution_count": null,
      "outputs": []
    }
  ]
}