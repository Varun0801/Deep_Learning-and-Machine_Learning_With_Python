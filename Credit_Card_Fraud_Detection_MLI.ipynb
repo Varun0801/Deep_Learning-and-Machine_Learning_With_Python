{
  "nbformat": 4,
  "nbformat_minor": 0,
  "metadata": {
    "colab": {
      "name": "Credit_Card_Fraud_Detection_MLI.ipynb",
      "provenance": [],
      "collapsed_sections": [],
      "mount_file_id": "1MbenVxpsrlV_ZqEEOsXC_hKVHYuvdu8i",
      "authorship_tag": "ABX9TyPgF0sq3r3iT8/Ls2ysi0Y9",
      "include_colab_link": true
    },
    "kernelspec": {
      "name": "python3",
      "display_name": "Python 3"
    },
    "accelerator": "TPU"
  },
  "cells": [
    {
      "cell_type": "markdown",
      "metadata": {
        "id": "view-in-github",
        "colab_type": "text"
      },
      "source": [
        "<a href=\"https://colab.research.google.com/github/Varun0801/Deep_Learning-and-Machine_Learning_With_Python/blob/master/Credit_Card_Fraud_Detection_MLI.ipynb\" target=\"_parent\"><img src=\"https://colab.research.google.com/assets/colab-badge.svg\" alt=\"Open In Colab\"/></a>"
      ]
    },
    {
      "cell_type": "code",
      "metadata": {
        "id": "3Ax2xNcDUghp"
      },
      "source": [
        "import pandas as pd\r\n",
        "import matplotlib.pyplot as plt\r\n",
        "import numpy as np\r\n"
      ],
      "execution_count": 1,
      "outputs": []
    },
    {
      "cell_type": "code",
      "metadata": {
        "colab": {
          "base_uri": "https://localhost:8080/"
        },
        "id": "teCpBiujUyt4",
        "outputId": "3add8520-dffa-45fa-d3ca-c67c1ba7b327"
      },
      "source": [
        "data = pd.read_csv('/content/drive/MyDrive/TRAIN.csv')\r\n",
        "data.head()\r\n",
        "print(data.shape)"
      ],
      "execution_count": 2,
      "outputs": [
        {
          "output_type": "stream",
          "text": [
            "(284455, 31)\n"
          ],
          "name": "stdout"
        }
      ]
    },
    {
      "cell_type": "code",
      "metadata": {
        "colab": {
          "base_uri": "https://localhost:8080/"
        },
        "id": "6ydsdCjOU3Zy",
        "outputId": "c50391fb-b193-4aff-b7a1-0c4bb7087693"
      },
      "source": [
        "X = data.iloc[:,1:29]\r\n",
        "print(X.shape)\r\n",
        "print(X.head())"
      ],
      "execution_count": 3,
      "outputs": [
        {
          "output_type": "stream",
          "text": [
            "(284455, 28)\n",
            "         V1        V2        V3  ...       V26       V27       V28\n",
            "0  2.245295 -1.160960 -1.966682  ...  0.103970 -0.047350 -0.064800\n",
            "1  1.278609  0.102574  0.512079  ...  0.938359 -0.078720  0.008119\n",
            "2  1.466457  0.026088 -0.499298  ... -0.454779  0.001524  0.030935\n",
            "3 -0.922137 -0.371579  2.132018  ... -0.734220 -0.034480 -0.064786\n",
            "4 -1.166525  0.255439  2.108464  ... -0.750242  0.029124  0.091303\n",
            "\n",
            "[5 rows x 28 columns]\n"
          ],
          "name": "stdout"
        }
      ]
    },
    {
      "cell_type": "code",
      "metadata": {
        "colab": {
          "base_uri": "https://localhost:8080/"
        },
        "id": "z1w1c8xIU9Mt",
        "outputId": "352f4c24-b48a-4bb0-bc6b-dd5268508bbf"
      },
      "source": [
        "y = data.iloc[:,-1]\r\n",
        "print(y.shape)\r\n",
        "print(y.head())"
      ],
      "execution_count": 4,
      "outputs": [
        {
          "output_type": "stream",
          "text": [
            "(284455,)\n",
            "0    0\n",
            "1    0\n",
            "2    0\n",
            "3    0\n",
            "4    0\n",
            "Name: Class, dtype: int64\n"
          ],
          "name": "stdout"
        }
      ]
    },
    {
      "cell_type": "code",
      "metadata": {
        "colab": {
          "base_uri": "https://localhost:8080/"
        },
        "id": "KjZIe2N9M1nK",
        "outputId": "a922bd6a-9330-4c62-d247-1d9f69cb0481"
      },
      "source": [
        "print(y.value_counts())"
      ],
      "execution_count": 5,
      "outputs": [
        {
          "output_type": "stream",
          "text": [
            "0    284015\n",
            "1       440\n",
            "Name: Class, dtype: int64\n"
          ],
          "name": "stdout"
        }
      ]
    },
    {
      "cell_type": "code",
      "metadata": {
        "colab": {
          "base_uri": "https://localhost:8080/"
        },
        "id": "OYE4gAlhOWi2",
        "outputId": "f9449ebe-0483-4f92-82e4-df0418de9077"
      },
      "source": [
        "from sklearn.linear_model import LogisticRegression\r\n",
        "from sklearn.model_selection import train_test_split\r\n",
        "from sklearn.metrics import f1_score, confusion_matrix\r\n",
        "from sklearn.metrics import precision_score, recall_score\r\n",
        "from sklearn.metrics import roc_auc_score\r\n",
        "\r\n",
        "X_train,X_test,y_train,y_test = train_test_split(X,y,test_size = 0.3 , stratify=y,random_state = 0)\r\n",
        "model = LogisticRegression(random_state=0)\r\n",
        "model.fit(X_train,y_train)\r\n",
        "y_pred = model.predict(X_test)\r\n",
        "accuracy = model.score(X_test,y_test)\r\n",
        "print(\"Model Accuracy: {}\".format(accuracy))\r\n",
        "recall = recall_score(y_test,y_pred)\r\n",
        "print(\"Recall Score: {}\".format(recall))\r\n",
        "precision = precision_score(y_test,y_pred)\r\n",
        "print(\"Precision Score: {}\".format(precision))\r\n",
        "f1 = f1_score(y_test,y_pred)\r\n",
        "print(\"F1 Score: {}\".format(f1))\r\n",
        "confusion_mat = confusion_matrix(y_test,y_pred)\r\n",
        "print(\"Confusion Matrix: {}\".format(confusion_mat))\r\n"
      ],
      "execution_count": 6,
      "outputs": [
        {
          "output_type": "stream",
          "text": [
            "Model Accuracy: 0.9992383139786962\n",
            "Recall Score: 0.5984848484848485\n",
            "Precision Score: 0.8681318681318682\n",
            "F1 Score: 0.7085201793721972\n",
            "Confusion Matrix: [[85193    12]\n",
            " [   53    79]]\n"
          ],
          "name": "stdout"
        }
      ]
    },
    {
      "cell_type": "code",
      "metadata": {
        "id": "8GXpqEfeVQVl",
        "colab": {
          "base_uri": "https://localhost:8080/",
          "height": 537
        },
        "outputId": "81718c20-26cd-467a-92c3-eda8c7ab2dcc"
      },
      "source": [
        "from imblearn.under_sampling import RandomUnderSampler\r\n",
        "import seaborn as sns\r\n",
        "#Code starts here\r\n",
        "# Create random under sampler object\r\n",
        "rus = RandomUnderSampler(random_state=0)\r\n",
        "#Undersampling the train data\r\n",
        "X_sample2, y_sample2 = rus.fit_sample(X_train, y_train)\r\n",
        "sns.countplot(y_sample2)\r\n",
        "#Initiating a logistic regression model\r\n",
        "model_rus = LogisticRegression(random_state=0)\r\n",
        "#Fitting the model with sampled data\r\n",
        "model_rus.fit(X_sample2, y_sample2)\r\n",
        "#Making prediction of test values\r\n",
        "y_pred=model_rus.predict(X_test)\r\n",
        "#Finding the accuracy score\r\n",
        "accuracy_rus=model_rus.score(X_test,y_test)\r\n",
        "print(\"Accuracy:\",accuracy_rus)\r\n",
        "#Finding the recall score\r\n",
        "recall_rus=recall_score(y_test, y_pred)\r\n",
        "print (\"recall:\",recall_rus)\r\n",
        "#Finding the precision score\r\n",
        "precision_rus=precision_score(y_test, y_pred)\r\n",
        "print (\"precision:\",precision_rus)\r\n",
        "#Finding the f1 score\r\n",
        "f1_rus=f1_score(y_test, y_pred)\r\n",
        "print (\"f1_score:\", f1_rus)\r\n",
        "#Finding the confusion matrix\r\n",
        "confusion_mat_rus=confusion_matrix(y_test, y_pred)\r\n",
        "print (\"Confusion Matrix:\\n\",confusion_mat_rus)"
      ],
      "execution_count": 7,
      "outputs": [
        {
          "output_type": "stream",
          "text": [
            "/usr/local/lib/python3.6/dist-packages/sklearn/externals/six.py:31: FutureWarning: The module is deprecated in version 0.21 and will be removed in version 0.23 since we've dropped support for Python 2.7. Please rely on the official version of six (https://pypi.org/project/six/).\n",
            "  \"(https://pypi.org/project/six/).\", FutureWarning)\n",
            "/usr/local/lib/python3.6/dist-packages/sklearn/utils/deprecation.py:144: FutureWarning: The sklearn.neighbors.base module is  deprecated in version 0.22 and will be removed in version 0.24. The corresponding classes / functions should instead be imported from sklearn.neighbors. Anything that cannot be imported from sklearn.neighbors is now part of the private API.\n",
            "  warnings.warn(message, FutureWarning)\n",
            "/usr/local/lib/python3.6/dist-packages/sklearn/utils/deprecation.py:87: FutureWarning: Function safe_indexing is deprecated; safe_indexing is deprecated in version 0.22 and will be removed in version 0.24.\n",
            "  warnings.warn(msg, category=FutureWarning)\n",
            "/usr/local/lib/python3.6/dist-packages/seaborn/_decorators.py:43: FutureWarning: Pass the following variable as a keyword arg: x. From version 0.12, the only valid positional argument will be `data`, and passing other arguments without an explicit keyword will result in an error or misinterpretation.\n",
            "  FutureWarning\n"
          ],
          "name": "stderr"
        },
        {
          "output_type": "stream",
          "text": [
            "Accuracy: 0.959865005800532\n",
            "recall: 0.8939393939393939\n",
            "precision: 0.0334372343440068\n",
            "f1_score: 0.06446326140398798\n",
            "Confusion Matrix:\n",
            " [[81794  3411]\n",
            " [   14   118]]\n"
          ],
          "name": "stdout"
        },
        {
          "output_type": "display_data",
          "data": {
            "image/png": "[encoded data removed]",
            "text/plain": [
              "<Figure size 432x288 with 1 Axes>"
            ]
          },
          "metadata": {
            "tags": [],
            "needs_background": "light"
          }
        }
      ]
    },
    {
      "cell_type": "code",
      "metadata": {
        "colab": {
          "base_uri": "https://localhost:8080/",
          "height": 470
        },
        "id": "lVSkIPwfSeeM",
        "outputId": "3c35966d-4031-4c58-ff63-ae96a1333771"
      },
      "source": [
        "from imblearn.over_sampling import RandomOverSampler\r\n",
        "#Code starts here\r\n",
        "#Initialising the random over sampler object\r\n",
        "ros = RandomOverSampler(random_state=0)\r\n",
        "#Sampling the train data using random over sampling method\r\n",
        "X_sample5, y_sample5 = ros.fit_sample(X_train, y_train)\r\n",
        "sns.countplot(y_sample5)\r\n",
        "#Initialising a logistic regression model\r\n",
        "model_ros = LogisticRegression(random_state=0)\r\n",
        "#Fitting the model with train data\r\n",
        "model_ros.fit(X_sample5, y_sample5)\r\n",
        "#Making predictions of the train data\r\n",
        "y_pred=model_ros.predict(X_test)\r\n",
        "#Finding the accuracy score\r\n",
        "accuracy_ros=model_ros.score(X_test,y_test)\r\n",
        "print(\"Accuracy:\",accuracy_ros)\r\n",
        "#Finding the recall score\r\n",
        "recall_ros=recall_score(y_test, y_pred)\r\n",
        "print (\"recall:\",recall_ros)\r\n",
        "#Finding the precison score\r\n",
        "precision_ros=precision_score(y_test, y_pred)\r\n",
        "print (\"precision:\",precision_ros)\r\n",
        "#Finding the f1 score\r\n",
        "f1_ros=f1_score(y_test, y_pred)\r\n",
        "print (\"f1_score:\", f1_ros)\r\n",
        "#Finding the confusion matrix\r\n",
        "confusion_mat_ros=confusion_matrix(y_test, y_pred)\r\n",
        "print (\"Confusion Matrix:\\n\",confusion_mat_ros)"
      ],
      "execution_count": 9,
      "outputs": [
        {
          "output_type": "stream",
          "text": [
            "/usr/local/lib/python3.6/dist-packages/sklearn/utils/deprecation.py:87: FutureWarning: Function safe_indexing is deprecated; safe_indexing is deprecated in version 0.22 and will be removed in version 0.24.\n",
            "  warnings.warn(msg, category=FutureWarning)\n",
            "/usr/local/lib/python3.6/dist-packages/seaborn/_decorators.py:43: FutureWarning: Pass the following variable as a keyword arg: x. From version 0.12, the only valid positional argument will be `data`, and passing other arguments without an explicit keyword will result in an error or misinterpretation.\n",
            "  FutureWarning\n"
          ],
          "name": "stderr"
        },
        {
          "output_type": "stream",
          "text": [
            "Accuracy: 0.9743136037123404\n",
            "recall: 0.8939393939393939\n",
            "precision: 0.05139372822299652\n",
            "f1_score: 0.09719934102141681\n",
            "Confusion Matrix:\n",
            " [[83027  2178]\n",
            " [   14   118]]\n"
          ],
          "name": "stdout"
        },
        {
          "output_type": "display_data",
          "data": {
            "image/png": "[encoded data removed]",
            "text/plain": [
              "<Figure size 432x288 with 1 Axes>"
            ]
          },
          "metadata": {
            "tags": [],
            "needs_background": "light"
          }
        }
      ]
    },
    {
      "cell_type": "code",
      "metadata": {
        "colab": {
          "base_uri": "https://localhost:8080/",
          "height": 470
        },
        "id": "U7qrKWzzSqty",
        "outputId": "529dee49-7185-40d0-d9f2-ac746a52fad3"
      },
      "source": [
        "from imblearn.over_sampling import SMOTE\r\n",
        "#Code starts here\r\n",
        "#Initialising a SMOTE object\r\n",
        "smote = SMOTE(random_state=0)\r\n",
        "#Sampling the data using SMOTE\r\n",
        "X_sample6, y_sample6 = smote.fit_sample(X_train, y_train)\r\n",
        "sns.countplot(y_sample6)\r\n",
        "#Initialising Logistic Regression model\r\n",
        "model_smote = LogisticRegression(random_state=0)\r\n",
        "#Fitting the model on train data\r\n",
        "model_smote.fit(X_sample6, y_sample6)\r\n",
        "#Making predictions on test data\r\n",
        "y_pred=model_smote.predict(X_test)\r\n",
        "#Finding the accuracy score\r\n",
        "accuracy_smote=model_smote.score(X_test,y_test)\r\n",
        "print(\"Accuracy:\",accuracy_smote)\r\n",
        "#Finding the recall score\r\n",
        "recall_smote=recall_score(y_test, y_pred)\r\n",
        "print (\"recall:\",recall_smote)\r\n",
        "#Finding the precision score\r\n",
        "precision_smote=precision_score(y_test, y_pred)\r\n",
        "print (\"precision:\",precision_smote)\r\n",
        "#Finding the f1 score\r\n",
        "f1_smote=f1_score(y_test, y_pred)\r\n",
        "print (\"f1_score:\", f1_smote)\r\n",
        "#Finding the confusion matrix\r\n",
        "confusion_mat_smote=confusion_matrix(y_test, y_pred)\r\n",
        "print (\"Confusion Matrix:\\n\",confusion_mat_smote)"
      ],
      "execution_count": 10,
      "outputs": [
        {
          "output_type": "stream",
          "text": [
            "/usr/local/lib/python3.6/dist-packages/sklearn/utils/deprecation.py:87: FutureWarning: Function safe_indexing is deprecated; safe_indexing is deprecated in version 0.22 and will be removed in version 0.24.\n",
            "  warnings.warn(msg, category=FutureWarning)\n",
            "/usr/local/lib/python3.6/dist-packages/seaborn/_decorators.py:43: FutureWarning: Pass the following variable as a keyword arg: x. From version 0.12, the only valid positional argument will be `data`, and passing other arguments without an explicit keyword will result in an error or misinterpretation.\n",
            "  FutureWarning\n"
          ],
          "name": "stderr"
        },
        {
          "output_type": "stream",
          "text": [
            "Accuracy: 0.975110444473089\n",
            "recall: 0.8787878787878788\n",
            "precision: 0.052158273381294966\n",
            "f1_score: 0.09847198641765706\n",
            "Confusion Matrix:\n",
            " [[83097  2108]\n",
            " [   16   116]]\n"
          ],
          "name": "stdout"
        },
        {
          "output_type": "display_data",
          "data": {
            "image/png": "[encoded data removed]",
            "text/plain": [
              "<Figure size 432x288 with 1 Axes>"
            ]
          },
          "metadata": {
            "tags": [],
            "needs_background": "light"
          }
        }
      ]
    },
    {
      "cell_type": "code",
      "metadata": {
        "colab": {
          "base_uri": "https://localhost:8080/",
          "height": 215
        },
        "id": "ucsbVCxpTnZA",
        "outputId": "a1a6f5ee-d704-408c-8bda-fe6f947eb738"
      },
      "source": [
        "data1 = pd.read_csv('/content/drive/MyDrive/TEST.csv')\r\n",
        "data1.head()"
      ],
      "execution_count": 12,
      "outputs": [
        {
          "output_type": "execute_result",
          "data": {
            "text/html": [
              "<div>\n",
              "<style scoped>\n",
              "    .dataframe tbody tr th:only-of-type {\n",
              "        vertical-align: middle;\n",
              "    }\n",
              "\n",
              "    .dataframe tbody tr th {\n",
              "        vertical-align: top;\n",
              "    }\n",
              "\n",
              "    .dataframe thead th {\n",
              "        text-align: right;\n",
              "    }\n",
              "</style>\n",
              "<table border=\"1\" class=\"dataframe\">\n",
              "  <thead>\n",
              "    <tr style=\"text-align: right;\">\n",
              "      <th></th>\n",
              "      <th>Index</th>\n",
              "      <th>V1</th>\n",
              "      <th>V2</th>\n",
              "      <th>V3</th>\n",
              "      <th>V4</th>\n",
              "      <th>V5</th>\n",
              "      <th>V6</th>\n",
              "      <th>V7</th>\n",
              "      <th>V8</th>\n",
              "      <th>V9</th>\n",
              "      <th>V10</th>\n",
              "      <th>V11</th>\n",
              "      <th>V12</th>\n",
              "      <th>V13</th>\n",
              "      <th>V14</th>\n",
              "      <th>V15</th>\n",
              "      <th>V16</th>\n",
              "      <th>V17</th>\n",
              "      <th>V18</th>\n",
              "      <th>V19</th>\n",
              "      <th>V20</th>\n",
              "      <th>V21</th>\n",
              "      <th>V22</th>\n",
              "      <th>V23</th>\n",
              "      <th>V24</th>\n",
              "      <th>V25</th>\n",
              "      <th>V26</th>\n",
              "      <th>V27</th>\n",
              "      <th>V28</th>\n",
              "      <th>Amount</th>\n",
              "    </tr>\n",
              "  </thead>\n",
              "  <tbody>\n",
              "    <tr>\n",
              "      <th>0</th>\n",
              "      <td>0</td>\n",
              "      <td>1.755477</td>\n",
              "      <td>-0.860198</td>\n",
              "      <td>-1.629185</td>\n",
              "      <td>0.164162</td>\n",
              "      <td>0.027778</td>\n",
              "      <td>-0.330613</td>\n",
              "      <td>0.216770</td>\n",
              "      <td>-0.215280</td>\n",
              "      <td>1.187584</td>\n",
              "      <td>-0.291611</td>\n",
              "      <td>-1.883296</td>\n",
              "      <td>0.107464</td>\n",
              "      <td>-0.180398</td>\n",
              "      <td>0.138906</td>\n",
              "      <td>-0.105876</td>\n",
              "      <td>-0.229330</td>\n",
              "      <td>-0.401810</td>\n",
              "      <td>-0.330877</td>\n",
              "      <td>0.620971</td>\n",
              "      <td>0.135129</td>\n",
              "      <td>-0.122173</td>\n",
              "      <td>-0.503867</td>\n",
              "      <td>-0.063954</td>\n",
              "      <td>-1.047319</td>\n",
              "      <td>-0.016514</td>\n",
              "      <td>-0.039022</td>\n",
              "      <td>-0.058861</td>\n",
              "      <td>-0.035955</td>\n",
              "      <td>186.76</td>\n",
              "    </tr>\n",
              "    <tr>\n",
              "      <th>1</th>\n",
              "      <td>1</td>\n",
              "      <td>-0.706506</td>\n",
              "      <td>1.155627</td>\n",
              "      <td>1.132585</td>\n",
              "      <td>2.742101</td>\n",
              "      <td>1.203095</td>\n",
              "      <td>0.013641</td>\n",
              "      <td>1.200743</td>\n",
              "      <td>-0.273633</td>\n",
              "      <td>-1.323403</td>\n",
              "      <td>1.138185</td>\n",
              "      <td>-1.275816</td>\n",
              "      <td>-1.087457</td>\n",
              "      <td>-0.936612</td>\n",
              "      <td>-0.041733</td>\n",
              "      <td>-1.153523</td>\n",
              "      <td>0.551025</td>\n",
              "      <td>-0.829644</td>\n",
              "      <td>-0.069660</td>\n",
              "      <td>-1.874384</td>\n",
              "      <td>-0.281283</td>\n",
              "      <td>0.352723</td>\n",
              "      <td>1.142657</td>\n",
              "      <td>-0.156382</td>\n",
              "      <td>1.139391</td>\n",
              "      <td>-0.151635</td>\n",
              "      <td>0.063306</td>\n",
              "      <td>-0.284146</td>\n",
              "      <td>-0.015198</td>\n",
              "      <td>21.18</td>\n",
              "    </tr>\n",
              "    <tr>\n",
              "      <th>2</th>\n",
              "      <td>2</td>\n",
              "      <td>1.043717</td>\n",
              "      <td>-0.928666</td>\n",
              "      <td>0.643312</td>\n",
              "      <td>-2.093695</td>\n",
              "      <td>-0.527878</td>\n",
              "      <td>1.420413</td>\n",
              "      <td>-1.053914</td>\n",
              "      <td>0.702897</td>\n",
              "      <td>2.450726</td>\n",
              "      <td>-1.767777</td>\n",
              "      <td>2.057099</td>\n",
              "      <td>2.184425</td>\n",
              "      <td>-0.470463</td>\n",
              "      <td>-0.016315</td>\n",
              "      <td>1.027377</td>\n",
              "      <td>-2.374469</td>\n",
              "      <td>1.332018</td>\n",
              "      <td>-1.536175</td>\n",
              "      <td>0.206623</td>\n",
              "      <td>-0.264045</td>\n",
              "      <td>0.008873</td>\n",
              "      <td>0.568767</td>\n",
              "      <td>0.070359</td>\n",
              "      <td>-0.978165</td>\n",
              "      <td>0.258814</td>\n",
              "      <td>-0.726163</td>\n",
              "      <td>0.176843</td>\n",
              "      <td>0.005530</td>\n",
              "      <td>1.00</td>\n",
              "    </tr>\n",
              "    <tr>\n",
              "      <th>3</th>\n",
              "      <td>3</td>\n",
              "      <td>-4.194074</td>\n",
              "      <td>4.382897</td>\n",
              "      <td>-5.118363</td>\n",
              "      <td>4.455230</td>\n",
              "      <td>-4.812621</td>\n",
              "      <td>-1.224645</td>\n",
              "      <td>-7.281328</td>\n",
              "      <td>3.332250</td>\n",
              "      <td>-3.679659</td>\n",
              "      <td>-7.524368</td>\n",
              "      <td>2.954344</td>\n",
              "      <td>-7.099825</td>\n",
              "      <td>1.520369</td>\n",
              "      <td>-7.687803</td>\n",
              "      <td>-0.225002</td>\n",
              "      <td>-8.520850</td>\n",
              "      <td>-13.277300</td>\n",
              "      <td>-5.253705</td>\n",
              "      <td>3.623332</td>\n",
              "      <td>0.579098</td>\n",
              "      <td>1.550473</td>\n",
              "      <td>0.614573</td>\n",
              "      <td>0.028521</td>\n",
              "      <td>0.013704</td>\n",
              "      <td>-0.149512</td>\n",
              "      <td>-0.131687</td>\n",
              "      <td>0.473934</td>\n",
              "      <td>0.473757</td>\n",
              "      <td>14.46</td>\n",
              "    </tr>\n",
              "    <tr>\n",
              "      <th>4</th>\n",
              "      <td>4</td>\n",
              "      <td>1.187587</td>\n",
              "      <td>0.173589</td>\n",
              "      <td>0.104741</td>\n",
              "      <td>1.143172</td>\n",
              "      <td>0.164552</td>\n",
              "      <td>0.162763</td>\n",
              "      <td>0.097302</td>\n",
              "      <td>0.001023</td>\n",
              "      <td>-0.013501</td>\n",
              "      <td>0.060962</td>\n",
              "      <td>0.318420</td>\n",
              "      <td>1.224034</td>\n",
              "      <td>0.632704</td>\n",
              "      <td>0.053400</td>\n",
              "      <td>-1.059099</td>\n",
              "      <td>-0.023212</td>\n",
              "      <td>-0.603919</td>\n",
              "      <td>0.155364</td>\n",
              "      <td>0.580959</td>\n",
              "      <td>-0.039666</td>\n",
              "      <td>-0.112873</td>\n",
              "      <td>-0.163529</td>\n",
              "      <td>-0.231334</td>\n",
              "      <td>-0.469322</td>\n",
              "      <td>0.832111</td>\n",
              "      <td>-0.312343</td>\n",
              "      <td>0.019521</td>\n",
              "      <td>0.005464</td>\n",
              "      <td>27.00</td>\n",
              "    </tr>\n",
              "  </tbody>\n",
              "</table>\n",
              "</div>"
            ],
            "text/plain": [
              "   Index        V1        V2        V3  ...       V26       V27       V28  Amount\n",
              "0      0  1.755477 -0.860198 -1.629185  ... -0.039022 -0.058861 -0.035955  186.76\n",
              "1      1 -0.706506  1.155627  1.132585  ...  0.063306 -0.284146 -0.015198   21.18\n",
              "2      2  1.043717 -0.928666  0.643312  ... -0.726163  0.176843  0.005530    1.00\n",
              "3      3 -4.194074  4.382897 -5.118363  ... -0.131687  0.473934  0.473757   14.46\n",
              "4      4  1.187587  0.173589  0.104741  ... -0.312343  0.019521  0.005464   27.00\n",
              "\n",
              "[5 rows x 30 columns]"
            ]
          },
          "metadata": {
            "tags": []
          },
          "execution_count": 12
        }
      ]
    },
    {
      "cell_type": "code",
      "metadata": {
        "colab": {
          "base_uri": "https://localhost:8080/"
        },
        "id": "uf7L2KJafnK_",
        "outputId": "e4f8a7b2-27dd-40c5-cf91-bd30b16d4ef8"
      },
      "source": [
        "test_data = data1.iloc[:,1:29]\r\n",
        "print(test_data.shape)"
      ],
      "execution_count": 13,
      "outputs": [
        {
          "output_type": "stream",
          "text": [
            "(352, 28)\n"
          ],
          "name": "stdout"
        }
      ]
    },
    {
      "cell_type": "code",
      "metadata": {
        "colab": {
          "base_uri": "https://localhost:8080/"
        },
        "id": "mxR1wQEkf1Bf",
        "outputId": "987c0798-e33c-47bd-9b37-d8d6328d96c7"
      },
      "source": [
        "results = model_smote.predict(test_data)\r\n",
        "print(results)"
      ],
      "execution_count": 14,
      "outputs": [
        {
          "output_type": "stream",
          "text": [
            "[0 1 0 1 0 0 0 1 0 0 0 0 0 0 0 0 1 0 0 0 1 0 0 0 0 1 0 0 0 0 0 1 0 0 0 0 0\n",
            " 1 0 0 0 0 0 0 0 0 0 0 0 1 0 0 0 0 0 0 0 0 0 0 0 0 1 1 0 0 0 0 1 0 0 0 0 1\n",
            " 0 0 0 0 0 0 0 0 0 0 0 0 0 0 1 0 0 0 1 0 0 1 0 0 1 0 1 0 0 0 0 0 0 0 0 1 0\n",
            " 0 0 0 0 0 1 0 0 0 0 1 1 0 0 0 0 0 0 0 0 0 0 1 0 0 0 0 1 0 1 0 0 1 0 0 0 0\n",
            " 0 0 0 0 0 0 0 1 0 0 1 0 0 1 0 0 0 1 0 1 0 0 1 0 0 1 0 0 0 1 0 0 0 1 0 0 0\n",
            " 0 0 0 0 0 0 1 0 0 0 0 0 0 1 0 0 0 0 0 0 0 0 0 0 0 0 0 0 1 0 0 0 0 0 0 0 0\n",
            " 0 0 0 0 0 0 0 1 0 0 0 0 0 1 0 0 0 0 0 0 0 1 0 0 0 0 0 0 0 0 0 0 1 0 0 0 0\n",
            " 0 0 0 0 0 0 0 0 0 0 1 0 0 0 0 0 0 0 0 0 0 0 0 0 0 0 0 1 0 0 0 0 1 0 0 0 0\n",
            " 0 0 0 0 0 1 0 0 0 1 1 0 0 0 0 0 0 0 0 1 0 0 1 0 1 0 0 0 1 1 0 1 0 0 0 0 1\n",
            " 0 0 0 0 0 1 0 0 0 0 0 0 0 0 1 0 0 0 0]\n"
          ],
          "name": "stdout"
        }
      ]
    },
    {
      "cell_type": "code",
      "metadata": {
        "colab": {
          "base_uri": "https://localhost:8080/"
        },
        "id": "xbjIawrCjHn2",
        "outputId": "ba8ec905-8107-4da8-bceb-93390af21506"
      },
      "source": [
        "final = pd.DataFrame(results)\r\n",
        "print(final.shape)\r\n",
        "final.to_csv('output.csv',index=True)"
      ],
      "execution_count": 16,
      "outputs": [
        {
          "output_type": "stream",
          "text": [
            "(352, 1)\n"
          ],
          "name": "stdout"
        }
      ]
    },
    {
      "cell_type": "code",
      "metadata": {
        "id": "mHfkwTN3je0r"
      },
      "source": [
        ""
      ],
      "execution_count": null,
      "outputs": []
    }
  ]
}