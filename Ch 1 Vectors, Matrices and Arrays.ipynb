{
 "cells": [
  {
   "cell_type": "code",
   "execution_count": 2,
   "metadata": {},
   "outputs": [],
   "source": [
    "import numpy as np\n"
   ]
  },
  {
   "cell_type": "code",
   "execution_count": 3,
   "metadata": {},
   "outputs": [
    {
     "name": "stdout",
     "output_type": "stream",
     "text": [
      "[1 2 3]\n"
     ]
    }
   ],
   "source": [
    "# Create a vector as row\n",
    "vector_row = np.array([1,2,3])\n",
    "print(vector_row) "
   ]
  },
  {
   "cell_type": "code",
   "execution_count": 6,
   "metadata": {},
   "outputs": [
    {
     "name": "stdout",
     "output_type": "stream",
     "text": [
      "[[1]\n",
      " [4]\n",
      " [6]]\n"
     ]
    }
   ],
   "source": [
    "# Creating a vector as column\n",
    "vector_column = np.array([[1],[4],[6]])\n",
    "print(vector_column)"
   ]
  },
  {
   "cell_type": "code",
   "execution_count": 7,
   "metadata": {},
   "outputs": [
    {
     "name": "stdout",
     "output_type": "stream",
     "text": [
      "[[1 2]\n",
      " [3 4]\n",
      " [5 6]]\n"
     ]
    }
   ],
   "source": [
    "# Creating a matrix\n",
    "matrix = np.array([[1,2],[3,4],[5,6]])\n",
    "print(matrix)"
   ]
  },
  {
   "cell_type": "code",
   "execution_count": 8,
   "metadata": {},
   "outputs": [
    {
     "name": "stdout",
     "output_type": "stream",
     "text": [
      "[[1 2]\n",
      " [3 4]\n",
      " [5 6]]\n"
     ]
    }
   ],
   "source": [
    "# Alternating way to create a matrix\n",
    "matrix_object = np.mat([[1,2],[3,4],[5,6]])\n",
    "print(matrix_object)"
   ]
  },
  {
   "cell_type": "code",
   "execution_count": 10,
   "metadata": {},
   "outputs": [
    {
     "name": "stdout",
     "output_type": "stream",
     "text": [
      "  (1, 1)\t1\n",
      "  (2, 0)\t3\n"
     ]
    }
   ],
   "source": [
    "# Creating a Sparse Matrix\n",
    "# import numpy as np\n",
    "\"\"\"A frequent situation in machine learning is having a huge amount of data; however,\n",
    "most of the elements in the data are zeros. For example, imagine a matrix where the\n",
    "columns are every movie on Netflix, the rows are every Netflix user, and the values\n",
    "are how many times a user has watched that particular movie. This matrix would\n",
    "have tens of thousands of columns and millions of rows! However, since most users\n",
    "do not watch most movies, the vast majority of elements would be zero.\n",
    "Sparse matrices only store nonzero elements and assume all other values will be zero,\n",
    "leading to significant computational savings.We created a NumPy\n",
    "array with two nonzero values, then converted it into a sparse matrix. If we view the\n",
    "sparse matrix we can see that only the nonzero values are stored \"\"\"\n",
    "from scipy import sparse\n",
    "matrix = np.array([[0,0],[0,1],[3,0]])\n",
    "matrix_sparse = sparse.csr_matrix(matrix)\n",
    "print(matrix_sparse)"
   ]
  },
  {
   "cell_type": "code",
   "execution_count": 11,
   "metadata": {},
   "outputs": [
    {
     "name": "stdout",
     "output_type": "stream",
     "text": [
      "  (1, 1)\t1\n",
      "  (2, 0)\t3\n",
      "  (1, 1)\t1\n",
      "  (2, 0)\t3\n"
     ]
    }
   ],
   "source": [
    "# Create larger matrix\n",
    "matrix_large = np.array([[0, 0, 0, 0, 0, 0, 0, 0, 0, 0],\n",
    " [0, 1, 0, 0, 0, 0, 0, 0, 0, 0],\n",
    " [3, 0, 0, 0, 0, 0, 0, 0, 0, 0]])\n",
    "# Create compressed sparse row (CSR) matrix\n",
    "matrix_large_sparse = sparse.csr_matrix(matrix_large)\n",
    "# View original sparse matrix\n",
    "print(matrix_sparse)\n",
    "# View larger sparse matrix\n",
    "print(matrix_large_sparse)"
   ]
  },
  {
   "cell_type": "code",
   "execution_count": 19,
   "metadata": {},
   "outputs": [
    {
     "name": "stdout",
     "output_type": "stream",
     "text": [
      "3\n",
      "5\n",
      "[1 2 3 4 5 6 7]\n",
      "[[1 2 3]\n",
      " [4 5 6]\n",
      " [7 8 9]]\n",
      "[4 5 6 7]\n",
      "7\n",
      "[[1 2 3]\n",
      " [4 5 6]]\n",
      "[[2]\n",
      " [5]\n",
      " [8]]\n",
      "[7 6 5 4 3 2 1]\n",
      "[[7 8 9]\n",
      " [4 5 6]\n",
      " [1 2 3]]\n"
     ]
    }
   ],
   "source": [
    "# Selecting Elements\n",
    "# in both vector and matrix\n",
    "vector = np.array([1,2,3,4,5,6,7])\n",
    "matrix = np.array([[1,2,3],\n",
    "                   [4,5,6],\n",
    "                   [7,8,9]])\n",
    "\n",
    "# Select third element of vector\n",
    "print(vector[2])\n",
    "\n",
    "#Select second row, second column\n",
    "print(matrix[1,1])\n",
    "\n",
    "# Select all elements of a vector\n",
    "print(vector[:])\n",
    "\n",
    "# Select everything up to and including the third element\n",
    "print(matrix[:3])\n",
    "\n",
    "# Select everything after the third element\n",
    "print(vector[3:])\n",
    "\n",
    "# Select the last element\n",
    "print(vector[-1])\n",
    "\n",
    "# Select the first two rows and all columns of a matrix\n",
    "print(matrix[:2,:])\n",
    "\n",
    "# Select all rows and the second column\n",
    "print(matrix[:,1:2])\n",
    "\n",
    "# Reverse of the Vector\n",
    "print(vector[::-1])\n",
    "\n",
    "# Revrese of the Matrix\n",
    "print(matrix[::-1])"
   ]
  },
  {
   "cell_type": "code",
   "execution_count": 20,
   "metadata": {},
   "outputs": [
    {
     "name": "stdout",
     "output_type": "stream",
     "text": [
      "(3, 4)\n",
      "12\n",
      "2\n"
     ]
    }
   ],
   "source": [
    "# Describing a Matrix\n",
    "matrix = np.array([[1, 2, 3, 4],\n",
    "                  [5, 6, 7, 8],\n",
    "                  [9, 10, 11, 12]])\n",
    "# View number of rows and columns\n",
    "print(matrix.shape)\n",
    "\n",
    "# View number of elements (rows * columns)\n",
    "print(matrix.size)\n",
    "\n",
    "# View number of dimensions\n",
    "print(matrix.ndim)"
   ]
  },
  {
   "cell_type": "code",
   "execution_count": 22,
   "metadata": {},
   "outputs": [
    {
     "name": "stdout",
     "output_type": "stream",
     "text": [
      "[[101 102 103]\n",
      " [104 105 106]\n",
      " [107 108 109]]\n",
      "[[101 102 103]\n",
      " [104 105 106]\n",
      " [107 108 109]]\n"
     ]
    }
   ],
   "source": [
    "# Applying Operations to Elements\n",
    "\n",
    "\"\"\"NumPy’s vectorize class converts a function into a function that can apply to all ele‐\n",
    "ments in an array or slice of an array. It’s worth noting that vectorize is essentially a\n",
    "for loop over the elements and does not increase performance. Furthermore, NumPy\n",
    "arrays allow us to perform operations between arrays even if their dimensions are not\n",
    "the same (a process called broadcasting).\"\"\"\n",
    "\n",
    "# Create matrix\n",
    "matrix = np.array([[1, 2, 3],\n",
    "                  [4, 5, 6],\n",
    "                  [7, 8, 9]])\n",
    "\n",
    "# Create function that adds 100 to something\n",
    "add_100 = lambda i: i + 100\n",
    "\n",
    "# Create vectorized function\n",
    "vectorized_add_100 = np.vectorize(add_100)\n",
    "\n",
    "# Apply function to all elements in matrix\n",
    "print(vectorized_add_100(matrix))\n",
    "\n",
    "# Using Broadcasting method directly which is a numpy advantage function\n",
    "print(matrix + 100)\n"
   ]
  },
  {
   "cell_type": "code",
   "execution_count": 23,
   "metadata": {},
   "outputs": [
    {
     "name": "stdout",
     "output_type": "stream",
     "text": [
      "9\n",
      "1\n",
      "[7 8 9]\n",
      "[1 4 7]\n"
     ]
    }
   ],
   "source": [
    "#Finding the Maximum and Minimum Values\n",
    "matrix = np.array([[1, 2, 3],\n",
    "                  [4, 5, 6],\n",
    "                  [7, 8, 9]])\n",
    "\n",
    "# Return maximum element\n",
    "print(np.max(matrix))\n",
    "\n",
    "# Return minimum element\n",
    "print(np.min(matrix))\n",
    "\n",
    "\"\"\" we want to know the maximum and minimum value in an array or subset of an\n",
    "array. This can be accomplished with the max and min methods. Using the axis\n",
    "parameter we can also apply the operation along a certain axis\"\"\"\n",
    "\n",
    "# Find maximum element in each column\n",
    "print(np.max(matrix, axis=0))\n",
    "\n",
    "# Find minimum element in each row\n",
    "print(np.min(matrix,axis =1))"
   ]
  },
  {
   "cell_type": "code",
   "execution_count": 24,
   "metadata": {},
   "outputs": [
    {
     "name": "stdout",
     "output_type": "stream",
     "text": [
      "5.0\n",
      "6.666666666666667\n",
      "2.581988897471611\n",
      "[4. 5. 6.]\n",
      "[0.81649658 0.81649658 0.81649658]\n"
     ]
    }
   ],
   "source": [
    "#Calculating the Average, Variance, and Standard Deviation\n",
    "\n",
    "matrix = np.array([[1,2,3],\n",
    "                  [4,5,6],\n",
    "                  [7,8,9]])\n",
    "# Return mean\n",
    "print(np.mean(matrix))\n",
    "\n",
    "# Return varience\n",
    "print(np.var(matrix))\n",
    "\n",
    "# Return standard deviation\n",
    "print(np.std(matrix))\n",
    "\n",
    "# Find the mean value for each column\n",
    "print(np.mean(matrix,axis=0))\n",
    "\n",
    "# Find the standard deviation for each row\n",
    "print(np.std(matrix,axis=1))"
   ]
  },
  {
   "cell_type": "code",
   "execution_count": 27,
   "metadata": {},
   "outputs": [
    {
     "name": "stdout",
     "output_type": "stream",
     "text": [
      "[[ 1  2  3  4  5  6]\n",
      " [ 7  8  9 10 11 12]]\n",
      "12\n",
      "[[ 1  2  3  4  5  6  7  8  9 10 11 12]]\n",
      "[ 1  2  3  4  5  6  7  8  9 10 11 12]\n"
     ]
    }
   ],
   "source": [
    "# Reshaping Arrays\n",
    "matrix = np.array([[1, 2, 3],\n",
    "                   [4, 5, 6],\n",
    "                   [7, 8, 9],\n",
    "                   [10, 11, 12]])\n",
    "# Reshape matrix into 2x6 matrix\n",
    "print(matrix.reshape(2,6))\n",
    "\n",
    "# Checking the size of the matrix\n",
    "print(matrix.size)\n",
    "\n",
    "\"\"\"One useful argument in reshape is -1, which effectively means “as many as needed,”\n",
    "so reshape(-1, 1) means one row and as many columns as needed or simply FLATTEN a matrix\"\"\"\n",
    "\n",
    "print(matrix.reshape(1,-1))\n",
    "print(matrix.flatten())"
   ]
  },
  {
   "cell_type": "code",
   "execution_count": 28,
   "metadata": {},
   "outputs": [
    {
     "name": "stdout",
     "output_type": "stream",
     "text": [
      "[[ 1  4  7 10]\n",
      " [ 2  5  8 11]\n",
      " [ 3  6  9 12]]\n",
      "[1 2 3 4 5 6 7]\n",
      "[[1]\n",
      " [2]\n",
      " [3]\n",
      " [4]\n",
      " [5]\n",
      " [6]]\n"
     ]
    }
   ],
   "source": [
    "#Transposing a Vector or Matrix\n",
    "matrix = np.array([[1, 2, 3],\n",
    "                   [4, 5, 6],\n",
    "                   [7, 8, 9],\n",
    "                   [10, 11, 12]])\n",
    "\n",
    "# Transpose matrix\n",
    "print(matrix.T)\n",
    "\n",
    "# Transpose vector\n",
    "print(np.array([1,2,3,4,5,6,7]).T)\n",
    "\n",
    "# Transposing row vector\n",
    "print(np.array([[1, 2, 3, 4, 5, 6]]).T)"
   ]
  },
  {
   "cell_type": "code",
   "execution_count": 29,
   "metadata": {},
   "outputs": [
    {
     "name": "stdout",
     "output_type": "stream",
     "text": [
      "2\n"
     ]
    }
   ],
   "source": [
    "# Finding the Rank of a Matrix\n",
    "matrix = np.array([[1, 1, 1],\n",
    "                  [1, 1, 10],\n",
    "                  [1, 1, 15]])\n",
    "\n",
    "# Returning matrix rank\n",
    "print(np.linalg.matrix_rank(matrix))"
   ]
  },
  {
   "cell_type": "code",
   "execution_count": 31,
   "metadata": {},
   "outputs": [
    {
     "name": "stdout",
     "output_type": "stream",
     "text": [
      "0.0\n"
     ]
    }
   ],
   "source": [
    "# Calculating the Determinant\n",
    "matrix = np.array([[1, 2, 3],\n",
    "                   [4, 5, 6],\n",
    "                   [7, 8, 9]])\n",
    "\n",
    "# Return determinant of matrix\n",
    "print(np.linalg.det(matrix))"
   ]
  },
  {
   "cell_type": "code",
   "execution_count": 33,
   "metadata": {},
   "outputs": [
    {
     "name": "stdout",
     "output_type": "stream",
     "text": [
      "[1 5 9]\n",
      "[2 6]\n",
      "[4 8]\n"
     ]
    }
   ],
   "source": [
    "# Getting the Diagonal of a Matrix\n",
    "matrix = np.array([[1, 2, 3],\n",
    "                   [4, 5, 6],\n",
    "                   [7, 8, 9]])\n",
    "\n",
    "# Return diagonal elements\n",
    "print(matrix.diagonal())\n",
    "\n",
    "\"\"\"NumPy makes getting the diagonal elements of a matrix easy with diagonal. It is also\n",
    "possible to get a diagonal off from the main diagonal by using the offset parameter.\"\"\"\n",
    "\n",
    "# Return diagonal one above the main diagonal\n",
    "print(matrix.diagonal(offset=1))\n",
    "\n",
    "# Return diagonal one below the main diagonal\n",
    "print(matrix.diagonal(offset=-1))"
   ]
  },
  {
   "cell_type": "code",
   "execution_count": 35,
   "metadata": {},
   "outputs": [
    {
     "name": "stdout",
     "output_type": "stream",
     "text": [
      "15\n",
      "15\n"
     ]
    }
   ],
   "source": [
    "# Calculating the Trace of a Matrix\n",
    "matrix = np.array([[1, 2, 3],\n",
    "                   [4, 5, 6],\n",
    "                   [7, 8, 9]])\n",
    "\n",
    "# Return Trace\n",
    "print(matrix.trace())\n",
    "\n",
    "\"\"\" trace of a matrix is the sum of the diagonal elements\"\"\"\n",
    "\n",
    "# Return diagonal and sum elements\n",
    "print(sum(matrix.diagonal()))"
   ]
  },
  {
   "cell_type": "code",
   "execution_count": 36,
   "metadata": {},
   "outputs": [
    {
     "name": "stdout",
     "output_type": "stream",
     "text": [
      "[13.55075847  0.74003145 -3.29078992]\n",
      "[[-0.17622017 -0.96677403 -0.53373322]\n",
      " [-0.435951    0.2053623  -0.64324848]\n",
      " [-0.88254925  0.15223105  0.54896288]]\n"
     ]
    }
   ],
   "source": [
    "# Finding Eigenvalues and Eigenvectors\n",
    "matrix = np.array([[1, -1, 3],\n",
    "                  [1, 1, 6],\n",
    "                  [3, 8, 9]])\n",
    "\n",
    "# Caclulate eigenvalues and eigenvectors \n",
    "eigenvalues, eigenvectors = np.linalg.eig(matrix)\n",
    "\n",
    "# view eigenvalues\n",
    "print(eigenvalues)\n",
    "\n",
    "# view eigenvectors\n",
    "print(eigenvectors)"
   ]
  },
  {
   "cell_type": "code",
   "execution_count": 38,
   "metadata": {},
   "outputs": [
    {
     "name": "stdout",
     "output_type": "stream",
     "text": [
      "32\n",
      "32\n"
     ]
    }
   ],
   "source": [
    "# Calculating Dot Products\n",
    "\n",
    "# Create two vectors\n",
    "vector_a = np.array([1,2,3])\n",
    "vector_b = np.array([4,5,6])\n",
    "\n",
    "# Calculate dot product\n",
    "print(np.dot(vector_a,vector_b))\n",
    "\n",
    "\"\"\"we can use the new @ operator\"\"\"\n",
    "\n",
    "print(vector_a @ vector_b)"
   ]
  },
  {
   "cell_type": "code",
   "execution_count": 39,
   "metadata": {},
   "outputs": [
    {
     "name": "stdout",
     "output_type": "stream",
     "text": [
      "[[ 2  4  2]\n",
      " [ 2  4  2]\n",
      " [ 2  4 10]]\n",
      "[[ 2  4  2]\n",
      " [ 2  4  2]\n",
      " [ 2  4 10]]\n",
      "[[ 0 -2  0]\n",
      " [ 0 -2  0]\n",
      " [ 0 -2 -6]]\n",
      "[[ 0 -2  0]\n",
      " [ 0 -2  0]\n",
      " [ 0 -2 -6]]\n"
     ]
    }
   ],
   "source": [
    "# Adding and Subtracting Matrices\n",
    "\n",
    "# Creating Matrix A and Matrix B\n",
    "matrix_a = np.array([[1, 1, 1],\n",
    "                    [1, 1, 1],\n",
    "                    [1, 1, 2]])\n",
    "\n",
    "matrix_b = np.array([[1, 3, 1],\n",
    "                    [1, 3, 1],\n",
    "                    [1, 3, 8]])\n",
    "\n",
    "# Adding two matrices\n",
    "print(np.add(matrix_a,matrix_b))\n",
    "\n",
    "print(matrix_a + matrix_b)\n",
    "\n",
    "# Subtract two matrices\n",
    "print(np.subtract(matrix_a, matrix_b))\n",
    "\n",
    "print(matrix_a - matrix_b)"
   ]
  },
  {
   "cell_type": "code",
   "execution_count": 41,
   "metadata": {},
   "outputs": [
    {
     "name": "stdout",
     "output_type": "stream",
     "text": [
      "[[2 5]\n",
      " [3 7]]\n",
      "[[2 5]\n",
      " [3 7]]\n",
      "[[1 3]\n",
      " [1 4]]\n"
     ]
    }
   ],
   "source": [
    "#  Multiplying Matrices\n",
    "matrix_a = np.array([[1, 1],\n",
    "                     [1, 2]])\n",
    "matrix_b = np.array([[1, 3],\n",
    "                     [1, 2]])\n",
    "\n",
    "# Multiply two matrices\n",
    "print(np.dot(matrix_a,matrix_b))\n",
    "\n",
    "\"\"\" Using @ operator too we can do matrix multiplication\"\"\"\n",
    "print(matrix_a @ matrix_b)\n",
    "\n",
    "\"\"\" we want to do element-wise multiplication, we can use the * operator\"\"\"\n",
    "print(matrix_a * matrix_b)"
   ]
  },
  {
   "cell_type": "code",
   "execution_count": 43,
   "metadata": {},
   "outputs": [
    {
     "name": "stdout",
     "output_type": "stream",
     "text": [
      "[[-1.66666667  1.33333333]\n",
      " [ 0.66666667 -0.33333333]]\n",
      "[[1.00000000e+00 0.00000000e+00]\n",
      " [1.11022302e-16 1.00000000e+00]]\n"
     ]
    }
   ],
   "source": [
    "# Inverting a Matrix\n",
    "matrix = np.array([[1, 4],\n",
    "                   [2, 5]])\n",
    "\n",
    "# Calculate inverse of matrix\n",
    "print(np.linalg.inv(matrix))\n",
    "\n",
    "\"\"\"The inverse of a square matrix, A, is a second matrix A–1, such that:\n",
    "AA−1 = I\n",
    "where I is the identity matrix. In NumPy we can use linalg.inv to calculate A–1 if it\n",
    "exists. To see this in action, we can multiply a matrix by its inverse and the result is\n",
    "the identity matrix\"\"\"\n",
    "\n",
    "print(matrix @ np.linalg.inv(matrix))"
   ]
  },
  {
   "cell_type": "code",
   "execution_count": 45,
   "metadata": {},
   "outputs": [
    {
     "name": "stdout",
     "output_type": "stream",
     "text": [
      "[0.5488135  0.71518937 0.60276338]\n",
      "[3 7 9]\n",
      "[-1.42232584  1.52006949 -0.29139398]\n",
      "[-0.98118713 -0.08939902  1.46416405]\n",
      "[1.47997717 1.3927848  1.83607876]\n"
     ]
    }
   ],
   "source": [
    "# Generating Random Values\n",
    "\n",
    "\"\"\" It can sometimes be useful to return the same random numbers multiple\n",
    "times to get predictable, repeatable results. We can do this by setting the “seed” (an\n",
    "integer) of the pseudorandom generator. Random processes with the same seed will\n",
    "20 | Chapter 1: Vectors, Matrices, and Arrays\n",
    "always produce the same output. \"\"\"\n",
    "# Set seed\n",
    "np.random.seed(0)\n",
    "\n",
    "# Generate three random floats between 0.0 and 1.0\n",
    "print(np.random.random(3))\n",
    "\n",
    "# Generate three random integers between 1 and 10\n",
    "print(np.random.randint(0,11,3))\n",
    "\n",
    "\"\"\" we can generate numbers by drawing them from a distribution\"\"\"\n",
    "\n",
    "# Draw three numbers from a normal distribution with mean 0.0 and standard deviation of 1.0\n",
    "print(np.random.normal(0.0,1.0,3))\n",
    "\n",
    "# Draw three numbers from a logistic distribution with mean 0.0 and scale of 1.0\n",
    "print(np.random.logistic(0.0,1.0,3))\n",
    "\n",
    "# Draw three numbers greater than or equal to 1.0 and less than 2.0\n",
    "print(np.random.uniform(1.0,2.0,3))"
   ]
  },
  {
   "cell_type": "code",
   "execution_count": null,
   "metadata": {},
   "outputs": [],
   "source": []
  }
 ],
 "metadata": {
  "kernelspec": {
   "display_name": "Python 3",
   "language": "python",
   "name": "python3"
  },
  "language_info": {
   "codemirror_mode": {
    "name": "ipython",
    "version": 3
   },
   "file_extension": ".py",
   "mimetype": "text/x-python",
   "name": "python",
   "nbconvert_exporter": "python",
   "pygments_lexer": "ipython3",
   "version": "3.7.7"
  }
 },
 "nbformat": 4,
 "nbformat_minor": 4
}
